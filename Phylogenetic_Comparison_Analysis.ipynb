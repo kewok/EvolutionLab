{
  "cells": [
    {
      "metadata": {},
      "cell_type": "markdown",
      "source": "## Using Jupyter\n\nYou are currently reading this in an environment called \"Jupyter\". These are interactive notebooks that let you explore ideas. It's kind of like a blog text field, but Jupyter allows us to explore so much more than static blogs."
    },
    {
      "metadata": {},
      "cell_type": "markdown",
      "source": "![](https://notebooks.azure.com/anon-idowvg/projects/evolution2019/raw/jupiter.jpg)"
    },
    {
      "metadata": {},
      "cell_type": "markdown",
      "source": "\nThe basic unit of Jupyter is a cell. We will now practice making cells. \n\nClick __HERE__ once. There should be a blue line to the left of this text.\n\nNow, on the top of the notebook, you will see an item called \"Insert\". Click on it, and select \"Insert Cell Below\".\n\nDouble click on the cell you just created. Then, go to the drop down menu that says \"Code\". Change that to \"Markdown.\" Type something in the cell, and press Shift + Enter or ⌘+Return. Create a new cell under this one, and in it, write a description for me as to what happened when you clicked Shift + Enter or ⌘+Return."
    },
    {
      "metadata": {},
      "cell_type": "markdown",
      "source": " Everytime you prepare a cell in Markdown with your own text, I ask that you include the tag &lt;mark&gt; at the very beginning and the tag &lt;/mark&gt; at the very end. Go ahead and make a cell, select markdown, and paste text you wrote earlier in a new cell under this text, but with the tags at the very beginning and end. Then, make a new cell (with tags) and tell me what you see."
    },
    {
      "metadata": {},
      "cell_type": "markdown",
      "source": "You can read all about Jupyter here:\n\nhttps://www.theatlantic.com/science/archive/2018/04/the-scientific-paper-is-obsolete/556676/"
    },
    {
      "metadata": {},
      "cell_type": "markdown",
      "source": "## Making Jupyter interactive\n\nTyping stuff is useful, but Jupyter really shines when you want to tell it to do something for you. Today, we're going to learn how we can do comparative analyses to test ecological causes of evolutionary change (i.e., to test if a trait is an adaptation to some environmental condition), and report the results of our analyses, <i>all within Jupyter</i>. You'll recall a comparative analysis allows us to test whether some process (e.g., group size, pollination, etc...) drives evolutionary change, controlling for the phylogenetic background.\n\nWe'll do this analysis using a tool called R. R is a nearly ubiquitous tool for doing statistics in biology and in other natural and social sciences. It is also common in the workplace for rather technical fields like finance. Take a moment to read about it in this New York Times article, and practice communicating in Jupyter by typing your response to the article below:\n\nhttps://www.nytimes.com/2009/01/07/technology/business-computing/07program.html"
    },
    {
      "metadata": {},
      "cell_type": "markdown",
      "source": "Despite it's strengths, there are a few things about R that require getting used to. \n\nFirst, R works through a *command line interface*. This means getting R to do what you want it to do requires typing instructions. You can't drag and drop pictures on a screen. You can't click and double click, much less tap, your way out of problems. You have to type things, and type them in a pretty specific way, to do anything meaningful. \n\nOne way to think about R is as a super-duper powerful graphing calculator. To get a feel for how to do something fairly straightforward, click on the Jupyter cell below. Then, press the \"Run\" button on top (or Shift+Enter/⌘+Return)"
    },
    {
      "metadata": {
        "trusted": true
      },
      "cell_type": "code",
      "source": "1+1",
      "execution_count": null,
      "outputs": []
    },
    {
      "metadata": {},
      "cell_type": "markdown",
      "source": "Maybe something a bit more involved?"
    },
    {
      "metadata": {
        "trusted": true
      },
      "cell_type": "code",
      "source": "(1/10)*153*sin(42)",
      "execution_count": null,
      "outputs": []
    },
    {
      "metadata": {},
      "cell_type": "markdown",
      "source": "How about something a little fancier? Try running the cell below following the instructions from before, and in a new markdown cell below the output, type a description of what you see."
    },
    {
      "metadata": {
        "trusted": true
      },
      "cell_type": "code",
      "source": "x <- numeric()\nx[1:2] <- c(1,1)\nfor (i in 3:50)\n    {\n    x[i] <- x[i-1] + x[i-2]\n    print(paste('the ', i, 'th number of the fibonacci sequence is ', x[i], sep=''))\n    }",
      "execution_count": null,
      "outputs": []
    },
    {
      "metadata": {},
      "cell_type": "markdown",
      "source": "One final note. R makes extensive use of things called functions. These are basically instructions. If you want to use your calculator to calculate, for instance, the cosine of pi, you'd type `cos(pi)`. The convention used is: name of function, parentheses, and argument. Same deal in R:"
    },
    {
      "metadata": {
        "trusted": true
      },
      "cell_type": "code",
      "source": "cos(pi)",
      "execution_count": null,
      "outputs": []
    },
    {
      "metadata": {},
      "cell_type": "markdown",
      "source": "Only R has more functions than the usual calculator. For instance, you can print a statement:"
    },
    {
      "metadata": {
        "trusted": true
      },
      "cell_type": "code",
      "source": "print('hello world')",
      "execution_count": null,
      "outputs": []
    },
    {
      "metadata": {},
      "cell_type": "markdown",
      "source": "Go ahead and call a function to print whatever statement you want. After doing so, in a new markdown cell, identify the name of the function you used and the argument you gave it to print the statement you want."
    },
    {
      "metadata": {},
      "cell_type": "markdown",
      "source": "R's function are incredibly powerful. For instance, they can be used to draw a pretty picture to compare cars."
    },
    {
      "metadata": {
        "trusted": true
      },
      "cell_type": "code",
      "source": "data <- as.matrix(mtcars)\nheatmap(data, scale=\"column\", col = cm.colors(256))\nheatmap(data, scale=\"column\", col = terrain.colors(256))\n \n# 2: Rcolorbrewer palette\nlibrary(RColorBrewer)\ncoul <- colorRampPalette(brewer.pal(8, \"PiYG\"))(25)\nheatmap(data, scale=\"column\", col = coul)",
      "execution_count": null,
      "outputs": []
    },
    {
      "metadata": {},
      "cell_type": "markdown",
      "source": "One important point about R is that you can always go back and correct things without any apprehension. Go back up to the `print()` function and see if you can get R to print a message more enticing than `hello world` (please keep it PG-13 however)."
    },
    {
      "metadata": {},
      "cell_type": "markdown",
      "source": "Today, we'll be using a handful of R functions. The point to understand is that R functions are like very specific instructions you can give to R, and in order to execute those instructions, R needs to know the name of the function and the arguments. What you'll see today is just a taste: R is very versatile, particular for statistical and data analysis tasks. "
    },
    {
      "metadata": {},
      "cell_type": "markdown",
      "source": "## Today's Question\n\nA few of you may know that despite the fact that crocodiles and alligators \"look alike\", the snout shape of living crocodilians (crocodiles, alligators, a gharials) vary tremendously. Below are some examples.\n\n![](https://notebooks.azure.com/anon-idowvg/projects/evolution2019/raw/alligator.jpg) ![](https://notebooks.azure.com/anon-idowvg/projects/evolution2019/raw/caimanhead.jpg) ![](https://notebooks.azure.com/anon-idowvg/projects/evolution2019/raw/Crocodylus-niloticus.jpg) ![](https://notebooks.azure.com/anon-idowvg/projects/evolution2019/raw/ppalpebrosus.png)\n![](https://notebooks.azure.com/anon-idowvg/projects/evolution2019/raw/Tomistoma.jpg) ![](https://notebooks.azure.com/anon-idowvg/projects/evolution2019/raw/Gharial.jpg)\n\n\nPart of my research aims to understand this variation, and to generate quantitative hypotheses about how crocodilian snout shapes evolved in the past (the diversity in the fossil record is even more spectacular) and, perhaps, might even evolve in the future. It seems likely that cranial shape diversity reflects different prey specializations, but for a whole host of reasons I won't go into here, this isn't as solid a case as it seems. "
    },
    {
      "metadata": {},
      "cell_type": "markdown",
      "source": "It turns out that, surprisingly, one of the biggest factors associated with cranial shape diversity is cranial size. Thus, if a crocodilian lineage already has \"big heads\", it's possible they may be more prone to evolve one type of skull shape than another.\n\n\n![](https://notebooks.azure.com/anon-idowvg/projects/evolution2019/raw/dib.jpeg)\n\n"
    },
    {
      "metadata": {},
      "cell_type": "markdown",
      "source": "Today, we will use the comparative method to ask whether <i> skull size</i> could be associated with ecological variables (like prey type), even controlling for phylogenetic relationships among living crocodilians. To keep things simple, I consider two such ecological variables: diet (generalist G or piscivorous F) and habitat (Continental fresh water - CF, Continental marine - CM, or Island freshwater - IF). "
    },
    {
      "metadata": {},
      "cell_type": "markdown",
      "source": "## Reading raw data into R\n\nSeveral years ago when I was supposed to be researching the evolution of mosquitoe-borne diseases, I scoured museum collections and measured a bunch of crocodilian skulls both within and across species ([here's the paper that we published about it](https://web-a-ebscohost-com.ezproxy.stthomas.edu/ehost/pdfviewer/pdfviewer?vid=1&sid=f36ee73d-605c-4e75-bded-be66261f440a%40sessionmgr4008)). After watching lots of nature documentaries I learned about what they tend to eat and where. I compiled the results of this work in a dataset called \"ExtantCrocHeadSize\".\n\nVery often, after we collect our raw data we organize it in spreadsheets. This is what I did, but if you are like me, doing analyses in excel-like environments quickly becomes tedious and painful. Worse, after a few basic things, you can't really do much with it if you need to do some serious analyses. So to escape excel drudgery and limitations, we can import our spreadsheet data into R and conduct the analyses from there.\n\nThe first step for changing your excel data into something R can easily work with is to save your excel file as a csv file (basically, a no-frills spreadsheet file). I've already done this for you, so go ahead and run the cell below to read the contents of the csv spreadsheet file into R."
    },
    {
      "metadata": {
        "trusted": true
      },
      "cell_type": "code",
      "source": "crocData <- read.csv(file='ExtantCrocHeadSize.csv',header=T)",
      "execution_count": 4,
      "outputs": []
    },
    {
      "metadata": {},
      "cell_type": "markdown",
      "source": "Let's take a look at what's going on here. The first thing you'll notice is that we used a function named `read.csv` to which we passed two arguments: the name of the csv file containing the data we're interested in (here, `ExtantCrocHeadSize.csv`), and an argument (`header=T`) specifying that the first row of the csv file contains the header (i.e., the names of the columns). \n\nThe second thing you'll notice is that the function instruction is preceded by `crocData <- `. Here we are setting things up so that we can refer to the contents of our spreadsheet file as `crocData`; put differently, `crocData` is the name of a variable representing all of our spreadsheet data. What the arrow `<-` means is that we are assigning the <i>variable name</i> `crocData` to be the output of the function `read.csv('ExtantCrocHeadSize.csv',header=T)`."
    },
    {
      "metadata": {},
      "cell_type": "markdown",
      "source": "Let's take a look at the data we just loaded. Run the box below to view the data you just read into R:"
    },
    {
      "metadata": {
        "trusted": true
      },
      "cell_type": "code",
      "source": "crocData",
      "execution_count": 5,
      "outputs": [
        {
          "output_type": "display_data",
          "data": {
            "text/plain": "   CommonName                      Species                    Habitat\n1  American alligator              Alligator mississippiensis CF     \n2  Chinese alligator               Alligator sinensis         CF     \n3  American crocodile              Crocodylus acutus          CM     \n4  Slender-snouted crocodile       Mecistops cataphractus     CF     \n5  Orinoco crocodile               Crocodylus intermedius     CF     \n6  Australian freshwater crocodile Crocodylus johnstoni       CF     \n7  Broad snouted caiman            Caiman latirostris         CF     \n8  Philippine crocodile            Crocodylus mindorensis     IF     \n9  Morelet’s crocodile             Crocodylus moreletti       CF     \n10 Nile crocodile                  Crocodylus niloticus       CF     \n11 New Guinea crocodile            Crocodylus noveaguinea     IF     \n12 Mugger crocodile                Crocodylus palustris       CF     \n13 Saltie                          Crocodylus porosus         CM     \n14 Cuban crocodile                 Crocodylus rhombifer       IF     \n15 Siamese crocodile               Crocodylus siamensis       CF     \n16 Gharial                         Gavialis gangeticus        CF     \n17 Black caiman                    Melanosuchus niger         CF     \n18 Dwarf crocidle                  Osteolamus tetrapsis       CF     \n19 Curvier’s dwarf caiman          Paleosuchus palpebrosus    CF     \n20 Smooth-fronted caiman           Paleosuchus trigonatus     CF     \n21 False gharial                   Tomistoma schlegii         IF     \n22 common caiman                   Caiman crocodilus          CF     \n   PrimaryDiet ScaledCranialSize LineageAge\n1  G           36.1              42000000  \n2  G           17.2              42000000  \n3  G           46.1               3000000  \n4  F           46.1              18000000  \n5  F           45.2               3000000  \n6  F           28.5              11000000  \n7  G           29.4               4000000  \n8  G           31.1               1000000  \n9  G           31.1               5000000  \n10 G           39.3              10000000  \n11 G           30.1               1000000  \n12 G           33.7              10000000  \n13 G           51.1              15000000  \n14 G           25.1               5000000  \n15 G           31.3              10000000  \n16 F           60.3              22000000  \n17 G           39.2              15000000  \n18 G           15.5              15000000  \n19 G           18.4              15000000  \n20 G           19.3              15000000  \n21 F           58.1              22000000  \n22 G           20.9              15000000  ",
            "text/latex": "A data.frame: 22 x 6\n\\begin{tabular}{r|llllll}\n CommonName & Species & Habitat & PrimaryDiet & ScaledCranialSize & LineageAge\\\\\n <fct> & <fct> & <fct> & <fct> & <dbl> & <int>\\\\\n\\hline\n\t American alligator              & Alligator mississippiensis & CF & G & 36.1 & 42000000\\\\\n\t Chinese alligator               & Alligator sinensis         & CF & G & 17.2 & 42000000\\\\\n\t American crocodile              & Crocodylus acutus          & CM & G & 46.1 &  3000000\\\\\n\t Slender-snouted crocodile       & Mecistops cataphractus     & CF & F & 46.1 & 18000000\\\\\n\t Orinoco crocodile               & Crocodylus intermedius     & CF & F & 45.2 &  3000000\\\\\n\t Australian freshwater crocodile & Crocodylus johnstoni       & CF & F & 28.5 & 11000000\\\\\n\t Broad snouted caiman            & Caiman latirostris         & CF & G & 29.4 &  4000000\\\\\n\t Philippine crocodile            & Crocodylus mindorensis     & IF & G & 31.1 &  1000000\\\\\n\t Morelet’s crocodile             & Crocodylus moreletti       & CF & G & 31.1 &  5000000\\\\\n\t Nile crocodile                  & Crocodylus niloticus       & CF & G & 39.3 & 10000000\\\\\n\t New Guinea crocodile            & Crocodylus noveaguinea     & IF & G & 30.1 &  1000000\\\\\n\t Mugger crocodile                & Crocodylus palustris       & CF & G & 33.7 & 10000000\\\\\n\t Saltie                          & Crocodylus porosus         & CM & G & 51.1 & 15000000\\\\\n\t Cuban crocodile                 & Crocodylus rhombifer       & IF & G & 25.1 &  5000000\\\\\n\t Siamese crocodile               & Crocodylus siamensis       & CF & G & 31.3 & 10000000\\\\\n\t Gharial                         & Gavialis gangeticus        & CF & F & 60.3 & 22000000\\\\\n\t Black caiman                    & Melanosuchus niger         & CF & G & 39.2 & 15000000\\\\\n\t Dwarf crocidle                  & Osteolamus tetrapsis       & CF & G & 15.5 & 15000000\\\\\n\t Curvier’s dwarf caiman          & Paleosuchus palpebrosus    & CF & G & 18.4 & 15000000\\\\\n\t Smooth-fronted caiman           & Paleosuchus trigonatus     & CF & G & 19.3 & 15000000\\\\\n\t False gharial                   & Tomistoma schlegii         & IF & F & 58.1 & 22000000\\\\\n\t common caiman                   & Caiman crocodilus          & CF & G & 20.9 & 15000000\\\\\n\\end{tabular}\n",
            "text/markdown": "\nA data.frame: 22 x 6\n\n| CommonName &lt;fct&gt; | Species &lt;fct&gt; | Habitat &lt;fct&gt; | PrimaryDiet &lt;fct&gt; | ScaledCranialSize &lt;dbl&gt; | LineageAge &lt;int&gt; |\n|---|---|---|---|---|---|\n| American alligator              | Alligator mississippiensis | CF | G | 36.1 | 42000000 |\n| Chinese alligator               | Alligator sinensis         | CF | G | 17.2 | 42000000 |\n| American crocodile              | Crocodylus acutus          | CM | G | 46.1 |  3000000 |\n| Slender-snouted crocodile       | Mecistops cataphractus     | CF | F | 46.1 | 18000000 |\n| Orinoco crocodile               | Crocodylus intermedius     | CF | F | 45.2 |  3000000 |\n| Australian freshwater crocodile | Crocodylus johnstoni       | CF | F | 28.5 | 11000000 |\n| Broad snouted caiman            | Caiman latirostris         | CF | G | 29.4 |  4000000 |\n| Philippine crocodile            | Crocodylus mindorensis     | IF | G | 31.1 |  1000000 |\n| Morelet’s crocodile             | Crocodylus moreletti       | CF | G | 31.1 |  5000000 |\n| Nile crocodile                  | Crocodylus niloticus       | CF | G | 39.3 | 10000000 |\n| New Guinea crocodile            | Crocodylus noveaguinea     | IF | G | 30.1 |  1000000 |\n| Mugger crocodile                | Crocodylus palustris       | CF | G | 33.7 | 10000000 |\n| Saltie                          | Crocodylus porosus         | CM | G | 51.1 | 15000000 |\n| Cuban crocodile                 | Crocodylus rhombifer       | IF | G | 25.1 |  5000000 |\n| Siamese crocodile               | Crocodylus siamensis       | CF | G | 31.3 | 10000000 |\n| Gharial                         | Gavialis gangeticus        | CF | F | 60.3 | 22000000 |\n| Black caiman                    | Melanosuchus niger         | CF | G | 39.2 | 15000000 |\n| Dwarf crocidle                  | Osteolamus tetrapsis       | CF | G | 15.5 | 15000000 |\n| Curvier’s dwarf caiman          | Paleosuchus palpebrosus    | CF | G | 18.4 | 15000000 |\n| Smooth-fronted caiman           | Paleosuchus trigonatus     | CF | G | 19.3 | 15000000 |\n| False gharial                   | Tomistoma schlegii         | IF | F | 58.1 | 22000000 |\n| common caiman                   | Caiman crocodilus          | CF | G | 20.9 | 15000000 |\n\n",
            "text/html": "<table>\n<caption>A data.frame: 22 x 6</caption>\n<thead>\n\t<tr><th scope=col>CommonName</th><th scope=col>Species</th><th scope=col>Habitat</th><th scope=col>PrimaryDiet</th><th scope=col>ScaledCranialSize</th><th scope=col>LineageAge</th></tr>\n\t<tr><th scope=col>&lt;fct&gt;</th><th scope=col>&lt;fct&gt;</th><th scope=col>&lt;fct&gt;</th><th scope=col>&lt;fct&gt;</th><th scope=col>&lt;dbl&gt;</th><th scope=col>&lt;int&gt;</th></tr>\n</thead>\n<tbody>\n\t<tr><td>American alligator             </td><td>Alligator mississippiensis</td><td>CF</td><td>G</td><td>36.1</td><td>42000000</td></tr>\n\t<tr><td>Chinese alligator              </td><td>Alligator sinensis        </td><td>CF</td><td>G</td><td>17.2</td><td>42000000</td></tr>\n\t<tr><td>American crocodile             </td><td>Crocodylus acutus         </td><td>CM</td><td>G</td><td>46.1</td><td> 3000000</td></tr>\n\t<tr><td>Slender-snouted crocodile      </td><td>Mecistops cataphractus    </td><td>CF</td><td>F</td><td>46.1</td><td>18000000</td></tr>\n\t<tr><td>Orinoco crocodile              </td><td>Crocodylus intermedius    </td><td>CF</td><td>F</td><td>45.2</td><td> 3000000</td></tr>\n\t<tr><td>Australian freshwater crocodile</td><td>Crocodylus johnstoni      </td><td>CF</td><td>F</td><td>28.5</td><td>11000000</td></tr>\n\t<tr><td>Broad snouted caiman           </td><td>Caiman latirostris        </td><td>CF</td><td>G</td><td>29.4</td><td> 4000000</td></tr>\n\t<tr><td>Philippine crocodile           </td><td>Crocodylus mindorensis    </td><td>IF</td><td>G</td><td>31.1</td><td> 1000000</td></tr>\n\t<tr><td>Morelet’s crocodile            </td><td>Crocodylus moreletti      </td><td>CF</td><td>G</td><td>31.1</td><td> 5000000</td></tr>\n\t<tr><td>Nile crocodile                 </td><td>Crocodylus niloticus      </td><td>CF</td><td>G</td><td>39.3</td><td>10000000</td></tr>\n\t<tr><td>New Guinea crocodile           </td><td>Crocodylus noveaguinea    </td><td>IF</td><td>G</td><td>30.1</td><td> 1000000</td></tr>\n\t<tr><td>Mugger crocodile               </td><td>Crocodylus palustris      </td><td>CF</td><td>G</td><td>33.7</td><td>10000000</td></tr>\n\t<tr><td>Saltie                         </td><td>Crocodylus porosus        </td><td>CM</td><td>G</td><td>51.1</td><td>15000000</td></tr>\n\t<tr><td>Cuban crocodile                </td><td>Crocodylus rhombifer      </td><td>IF</td><td>G</td><td>25.1</td><td> 5000000</td></tr>\n\t<tr><td>Siamese crocodile              </td><td>Crocodylus siamensis      </td><td>CF</td><td>G</td><td>31.3</td><td>10000000</td></tr>\n\t<tr><td>Gharial                        </td><td>Gavialis gangeticus       </td><td>CF</td><td>F</td><td>60.3</td><td>22000000</td></tr>\n\t<tr><td>Black caiman                   </td><td>Melanosuchus niger        </td><td>CF</td><td>G</td><td>39.2</td><td>15000000</td></tr>\n\t<tr><td>Dwarf crocidle                 </td><td>Osteolamus tetrapsis      </td><td>CF</td><td>G</td><td>15.5</td><td>15000000</td></tr>\n\t<tr><td>Curvier’s dwarf caiman         </td><td>Paleosuchus palpebrosus   </td><td>CF</td><td>G</td><td>18.4</td><td>15000000</td></tr>\n\t<tr><td>Smooth-fronted caiman          </td><td>Paleosuchus trigonatus    </td><td>CF</td><td>G</td><td>19.3</td><td>15000000</td></tr>\n\t<tr><td>False gharial                  </td><td>Tomistoma schlegii        </td><td>IF</td><td>F</td><td>58.1</td><td>22000000</td></tr>\n\t<tr><td>common caiman                  </td><td>Caiman crocodilus         </td><td>CF</td><td>G</td><td>20.9</td><td>15000000</td></tr>\n</tbody>\n</table>\n"
          },
          "metadata": {}
        }
      ]
    },
    {
      "metadata": {
        "trusted": true
      },
      "cell_type": "markdown",
      "source": "By default, when you type the variable name in R, it will present you with the contents of the variable.\n\nAs you can see, the spreadsheet data (which we stored in the variable `crocData`) are organized into what is called a data frame in R. Basically all this means is that you have a mix of different types of data. For instance, we have numerical data, in the form of scaled head size. We also have words, or what are called \"character\" data (because they are made up of characters) in the form of names. Both numerical and character data can, in principle, take on an infinite variety of values. These distinguish them from factor data, which you can basically think of as data that can take on only a few, limited number of values. For instance, \"diet\" is a factor, because it can only take on two values: F or G (for piscivory and generalist predation). Another example of factor data you frequently encounter would be \"Treatment\" and \"Control\".\n\nBy the way, did you notice that the same variable can be used across multiple cells? This is what makes Jupyter such a terrific environment for combining \"show your work\" calculations and narrative text describing your results."
    },
    {
      "metadata": {},
      "cell_type": "markdown",
      "source": "## Basic statistical analyses in R\n\nYou may have learned in your stats class that different kinds of data require different kinds of analyses. For instance, if your independent variables (predictors) are factors (e.g., Treatment v. Control) and your dependent variables (response) are numerical, then you want to do something like an ANOVA, whilst if both your independent and dependent variables are numbers, you want to do a regression. "
    },
    {
      "metadata": {},
      "cell_type": "markdown",
      "source": "What they may or may not have told you is that ANOVA and regression are basically the same thing: both are just variations on what is called a linear model (`lm` in R). In R, we can combine these different kinds of data to do our analyses in one unified framework that doesn't require us to worry about the underlying details of the data. "
    },
    {
      "metadata": {},
      "cell_type": "markdown",
      "source": "Let me illustrate this with our dataset. Let's do an ANOVA to see if diet (a factor) predicts cranial size (a numerical datum) in our data set. To do this, we run the following command in R:"
    },
    {
      "metadata": {
        "trusted": true
      },
      "cell_type": "code",
      "source": "test1 <- lm(ScaledCranialSize~PrimaryDiet, data=crocData)\nsummary(test1)",
      "execution_count": null,
      "outputs": []
    },
    {
      "metadata": {},
      "cell_type": "markdown",
      "source": "Definitely something going on. In a new cell, explain why these results suggest that primary diet (fish or general) seems associated with cranial size in crocodilians."
    },
    {
      "metadata": {},
      "cell_type": "markdown",
      "source": " How about testing if lineage age (a numerical datum) predicts cranial size (another numerical datum)? To do this, we run the regression:"
    },
    {
      "metadata": {
        "trusted": true
      },
      "cell_type": "code",
      "source": "test2 <- lm(ScaledCranialSize~LineageAge, data=crocData)\nsummary(test2)",
      "execution_count": null,
      "outputs": []
    },
    {
      "metadata": {},
      "cell_type": "markdown",
      "source": "Now compare the instructions we gave R for the factor case (diet v. head size) to the numerical case (lineage age v. head size). What do you notice about the instructions? How do they differ? What does this mean about having to worry about the underyling data types and the ANOVA v. regression question? Take a moment and record your thoughts in a new cell."
    },
    {
      "metadata": {},
      "cell_type": "markdown",
      "source": " Our results suggest a large, statistically significant effect of diet, but not lineage age, on crocodilian cranial size. In the Jupyter cell below, explain why one still can't be confident that crocodilian diet is associated with larger head size (recall the bat/testes size example in class)"
    },
    {
      "metadata": {},
      "cell_type": "markdown",
      "source": "## Importing Phylogenies into R\n"
    },
    {
      "metadata": {},
      "cell_type": "markdown",
      "source": "Hopefully the last prompt got you thinking as to why we need to take phylogeny into account before we can say that diet potentially selects for cranial size in crocodilians. Our first step is to species a phylogeny of crocodilians in R. \n\nThese days, phylogenies can be generated automatically (including from within R) using what are called character matrices. The details of how to do this are beyond the scope of this exercise, but suffice it to say that character matrices can include nucleotide sequencing or phenotypic data (or both). \n\nConsider the phylogeny below:"
    },
    {
      "metadata": {},
      "cell_type": "markdown",
      "source": "![](https://notebooks.azure.com/anon-idowvg/projects/evolution2019/raw/GreatApes.png)"
    },
    {
      "metadata": {},
      "cell_type": "markdown",
      "source": "What is important for you to know right now is that computer programs (including R) that can generate modern phylogenies generally represent their output using parentheses. You and I might look at the phylogeny above and know pretty immediately what to make of it, but a computer, or a person with limited vision, cannot. So, instead, the phylogeny is typically represented as a nested series of parentheses:"
    },
    {
      "metadata": {},
      "cell_type": "markdown",
      "source": "`(((Human,(Chimp,Bonobo)),Gorilla),Orangutan)`"
    },
    {
      "metadata": {},
      "cell_type": "markdown",
      "source": "This might be challenging to make sense of, but it's may be clearer if I were to rearrange the ordering as follows:"
    },
    {
      "metadata": {},
      "cell_type": "markdown",
      "source": "`(\n    (\n        (\n            Human,\n            (Chimp,Bonobo)\n        ), Gorilla\n     ),\n Orangutan\n );`"
    },
    {
      "metadata": {},
      "cell_type": "markdown",
      "source": "Now you might be able to see what's going on. Strictly speaking, each parentheses level consists of only two elements: (A,B). Each such element of the binary pair CAN be composed of more parenthetical elements, but it need not. For instance, the parentheses level `(Chimp, Bonobo)`  consists only of two taxa, and neither of those taxa described by further parentheses. However, the parentheses level `(Human, (Chimp, Bonobo))` consists of two lineages, `Human` and `(Chimp, Bonobo)`. `Human` is not described by further parentheses, but the lineage `(Chimp, Bonobo)` is parenthetically described. By the time we get to the parentheses level including Gorilla, we have two elements `Gorilla` and the parentheses levle including humans, chimps and bonobos (i.e., `(Human, (Chimp, Bonobo))`)."
    },
    {
      "metadata": {},
      "cell_type": "markdown",
      "source": "Let's practice representing phylogenies this way. Consider the following four taxa: cats, dogs, humans, and snakes. Cats and dogs are more closely related to each other than any of the other taxa, and humans are more closely related to cats and dogs than to snakes. In a new cell, use parentheses to try to describe the phylogeny."
    },
    {
      "metadata": {},
      "cell_type": "markdown",
      "source": "It turns out for crocodilians, the phylogeny (in parenthetical form) looks something like this:\n\n`(\n    (\n        (\n        Gavialis gangeticus,\n        Tomistoma schlegelii\n        ),\n        (\n            (        \n            Mecistops cataphractus,\n            Osteolamus tetrapsis\n            ),\n            (        \n                (\n\t\t        (\n                Crocodylus johnstoni,\n                (Crocodylus noveaguineae,\n                 Crocodylus mindorensis)\n                ),\n                (\n                    (\n                        (Crocodylus acutus, Crocodylus intermedius),\n                        (Crocodylus rhobifer, Crocodylus moreletii)\n                    ),\n                    Crocodylus niloticus\n                )\n                ),\n                    (\n                    (Crocodylus siamensis, \n                     Crocodylus palustris),\n                    Crocodylus porosus\n                    )\n            )\n        )\n     ),\n     (\n         (\n             (\n             Paleosuchus trigonatus,\n             Paleosuchus palpebrosus\n             ),\n             (\n             Melanosuchus niger,\n                 (\n                 Caiman latirostris,\n                 Caiman crocodilus\n                 )\n             )\n         ),\n             (\n             Alligator mississippiensis,\n             Alligator sinensis\n             )\n    )\n );`\n \n with two major lineages, the Alligatoroidae and the Crocodyloidae (shocking, I know). "
    },
    {
      "metadata": {},
      "cell_type": "markdown",
      "source": "Let's feed these parenthetical phylogenies into R. By default, R does not have the capability to work with phylogenies. Instead, we need to load what's called a `Package` into R that works with phylogenies. Packages are what humanity at its finest accomplishes. An R package is simply a set of functionalities that are not \"built-in\" with R, but were constructed by  others and made available for all out of the goodness of their heart.\n\nToday, we'll use the R package \"`ape`\". `ape` has become almost ubiquitous in modern phylogenetic research, and it's bells and whistles can be made available in R through the function \"library\" as:"
    },
    {
      "metadata": {
        "trusted": true
      },
      "cell_type": "code",
      "source": "library(ape)",
      "execution_count": 1,
      "outputs": []
    },
    {
      "metadata": {},
      "cell_type": "markdown",
      "source": "That's it. Now we are ready to read our phylogeny into R. The phylogeny is stored in a txt file called `crocPhylogenies.txt`. This text file includes the parenthetical organization of taxa, as well as a record on what is called the branch length - basically, how long it has been since divergence of two lineages. We can talk about the details of this if you are interested in doing a comparative research project.\n\nTo read this text file into R, we will reference the file storing our tree as we did with `read.csv` earlier. Only this time, rather than reading it in with `read.csv`, we'll use the creatively named `read.tree` instruction."
    },
    {
      "metadata": {
        "trusted": true
      },
      "cell_type": "code",
      "source": "crocTree <- read.tree('crocPhylogenies.txt')",
      "execution_count": 2,
      "outputs": []
    },
    {
      "metadata": {},
      "cell_type": "markdown",
      "source": "So we have a variable, `crocTree` that stores our phylogeny, as well as approximately how long it has been since the lineages split. In a new cell immediately below this one, type the variable name we just created. Then, in a separate, markdown cell, describe what you find."
    },
    {
      "metadata": {},
      "cell_type": "markdown",
      "source": "To be honest, this doesn't tell us too much of what is going on. To really see the power of `ape`, run the R command below. As an aside, I will give R the instruction `options(repr.plot.width=12, repr.plot.height=9)` to improve the aspect ratio of the output."
    },
    {
      "metadata": {
        "trusted": true
      },
      "cell_type": "code",
      "source": "options(repr.plot.width=12, repr.plot.height=9)\nplot(crocTree)",
      "execution_count": null,
      "outputs": []
    },
    {
      "metadata": {},
      "cell_type": "markdown",
      "source": "Do you see what's going on? Hopefully this will allow you to make sense of the phylogeny of living crocodilians much more readily, and it is a little easier for sighted people to understand the evolutionary relationships among those lineages.\n\nAs an aside, take a moment and re-run the car data plot you generated earlier."
    },
    {
      "metadata": {},
      "cell_type": "markdown",
      "source": "## Testing Adaptive Hypotheses taking Evolutionary History into Account\n\nNow for the fun stuff. `ape` makes it very easy to test hypotheses using known phylogenies. To do so, we need to set up what are called <b>phylogenetically independent contrasts</b> to \"correct\" for evolutionary history. \n\nThe basic idea of how this works is as follows. For a given sister group (say, *Crocodylus acutus* and *Crocodylus intermedius*), we first identify how much they differ along the predictor/independent variable (the X axis - e.g., diet), and store that difference as as the first phylogenetically independent contrast. We then identify how much they differ along the response/dependent variable (the Y axis - e.g., head size), and store *that* difference as the second phylogenetically independent contrast. We then regress these phylogenetically corrected values on each other. This makes sure we are accounting for evolutionary history in testing the hypothesis that diet drives cranial size evolution in extant crocodilians.\n\nIn `ape`, we will use a function `pic` (it's an acronym; three guesses as to what it stands for) to accomplish this for each of our input variables. Let's first start with diet:"
    },
    {
      "metadata": {
        "trusted": true
      },
      "cell_type": "code",
      "source": "pic_Diet <- pic(crocData[,'PrimaryDiet'], phy=crocTree)",
      "execution_count": null,
      "outputs": []
    },
    {
      "metadata": {},
      "cell_type": "markdown",
      "source": "Here, we pass two arguments to the function `pic`: the variable we want \"phylogenetically corrected\", and the phylogenetic tree `crocTree` as `phy`. We then stored the result of this command in a variable I called `pic_DIET`. The notation `crocData[,'PrimaryDiet']` merely refers to the fact that we are using the column `PrimaryDiet` from the dataset `crocData` in order to generate `pic_DIET`."
    },
    {
      "metadata": {},
      "cell_type": "markdown",
      "source": "In the cell below, see if you can create a phylogenetically independent contrast variable `pic_HEADSIZE` for our response (dependent) variable."
    },
    {
      "metadata": {
        "trusted": true
      },
      "cell_type": "code",
      "source": "crocData[,'Habitat']",
      "execution_count": 9,
      "outputs": [
        {
          "output_type": "display_data",
          "data": {
            "text/plain": " [1] CF CF CM CF CF CF CF IF CF CF IF CF CM IF CF CF CF CF CF CF IF CF\nLevels: CF CM IF",
            "text/latex": "\\begin{enumerate*}\n\\item CF\n\\item CF\n\\item CM\n\\item CF\n\\item CF\n\\item CF\n\\item CF\n\\item IF\n\\item CF\n\\item CF\n\\item IF\n\\item CF\n\\item CM\n\\item IF\n\\item CF\n\\item CF\n\\item CF\n\\item CF\n\\item CF\n\\item CF\n\\item IF\n\\item CF\n\\end{enumerate*}\n\n\\emph{Levels}: \\begin{enumerate*}\n\\item 'CF'\n\\item 'CM'\n\\item 'IF'\n\\end{enumerate*}\n",
            "text/markdown": "1. CF\n2. CF\n3. CM\n4. CF\n5. CF\n6. CF\n7. CF\n8. IF\n9. CF\n10. CF\n11. IF\n12. CF\n13. CM\n14. IF\n15. CF\n16. CF\n17. CF\n18. CF\n19. CF\n20. CF\n21. IF\n22. CF\n\n\n\n**Levels**: 1. 'CF'\n2. 'CM'\n3. 'IF'\n\n\n",
            "text/html": "<ol class=list-inline>\n\t<li>CF</li>\n\t<li>CF</li>\n\t<li>CM</li>\n\t<li>CF</li>\n\t<li>CF</li>\n\t<li>CF</li>\n\t<li>CF</li>\n\t<li>IF</li>\n\t<li>CF</li>\n\t<li>CF</li>\n\t<li>IF</li>\n\t<li>CF</li>\n\t<li>CM</li>\n\t<li>IF</li>\n\t<li>CF</li>\n\t<li>CF</li>\n\t<li>CF</li>\n\t<li>CF</li>\n\t<li>CF</li>\n\t<li>CF</li>\n\t<li>IF</li>\n\t<li>CF</li>\n</ol>\n\n<details>\n\t<summary style=display:list-item;cursor:pointer>\n\t\t<strong>Levels</strong>:\n\t</summary>\n\t<ol class=list-inline>\n\t\t<li>'CF'</li>\n\t\t<li>'CM'</li>\n\t\t<li>'IF'</li>\n\t</ol>\n</details>"
          },
          "metadata": {}
        }
      ]
    },
    {
      "metadata": {},
      "cell_type": "markdown",
      "source": "Now let's regress primary diet on cranial size, using the phylogenetically corrected values for both:"
    },
    {
      "metadata": {
        "trusted": true
      },
      "cell_type": "code",
      "source": "summary(lm(pic_HEADSIZE~pic_Diet))",
      "execution_count": null,
      "outputs": []
    },
    {
      "metadata": {},
      "cell_type": "markdown",
      "source": "Think you get the hang of it? See if you can now repeat analysis for habitat type, to see if that has any effect on head size."
    },
    {
      "metadata": {
        "trusted": true
      },
      "cell_type": "code",
      "source": "",
      "execution_count": null,
      "outputs": []
    },
    {
      "metadata": {},
      "cell_type": "markdown",
      "source": "## Conclusion\n\nIn a cell below, discuss your findings. What do you think this means about the hypothesis that diet drives cranial shape diversification? How might the hypothesis still be valid despite our results? Finally, think about what might be some questions about evolutionary adaptations you think you could test using this approach."
    },
    {
      "metadata": {
        "trusted": true
      },
      "cell_type": "code",
      "source": "",
      "execution_count": null,
      "outputs": []
    },
    {
      "metadata": {},
      "cell_type": "markdown",
      "source": "When you are all done, go to File -> Download from inside Jupyter and download the notebook as a PDF. Then, upload your PDF to Canvas."
    }
  ],
  "metadata": {
    "kernelspec": {
      "name": "r",
      "display_name": "R",
      "language": "R"
    },
    "language_info": {
      "mimetype": "text/x-r-source",
      "name": "R",
      "pygments_lexer": "r",
      "version": "3.5.3",
      "file_extension": ".r",
      "codemirror_mode": "r"
    }
  },
  "nbformat": 4,
  "nbformat_minor": 1
}