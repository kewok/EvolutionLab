{
  "cells": [
    {
      "metadata": {},
      "cell_type": "markdown",
      "source": "## Why study evolutionary biology computationally?\n\nDespite the beautiful elegance of its core logic, evolution is complicated. Lots of species, lots of environments, lots of genes, and all their interactions!\n\n![](https://evolution2019-anonidowvg.notebooks.azure.com/anon-idowvg/projects/evolution2019/raw/Tangled-Bank-Monkey-blog.jpg)\n\nAs you've seen, evolution involves lots of details about genetics. It involves multispecies interactions and abiotic factors in the environment. It involves multiple generations, possibly overlapping. Studying evolution involves thinking about how traits come together. And best (worst?) of all, it involves synthesizing these points in order to tell a coherent story about how life on earth (and elsewhere?) has changed and will change going forward. That's not easy.\n\nThis is why we use computers to help study evolution. Computers let us keep track of this complexity. They allow us to impose some order on it, so that we may explore our ideas rigorously and systematically. One of my goals is to get you familiar - and for the ambitious among you, even comfortable - exploring evolutionary questions *in silico* - that is, on a computer. Today, we will explore our ability to perform *theoretical analyses* of evolutionary change.\n\nConsider the quote below by Nobel-Prize winning physicist Richard Feynman:\n\n![](https://static.commonlounge.com/fp/600w/0Zy2NcEg6MNf1bjqXsCKFku071520494728_kc)\n\nTake a moment and record in a new Jupyter cell your assessment of Dr. Feynman's conclusion. "
    },
    {
      "metadata": {},
      "cell_type": "markdown",
      "source": "Admittedly, I am a convert to Dr. Feynman's view. There are few more powerful ways for understanding evolution than to recreate its logic for yourself. And because computers are systematic, efficient, and capable of carrying out complex tasks, one of the best places to recreate, and hence study, evolutionary processes is on a computer.\n\nHowever, even our most brilliant hacking is only as effective as our ability to communicate what we did. This is why Jupyter is so powerful: it lets you organizing your computational work into an interactive notebook. That way, others can reproduce your computations. They can explore your thought process in a play-by-play fashion. This is one facet that is very hard to do with platforms like SimLife. Although relatively easy to use, the underlying mechanics are, sadly, not quite as transparent as the standards of science demand."
    },
    {
      "metadata": {},
      "cell_type": "markdown",
      "source": "I accept that not all of you may find this a sufficiently persuasive argument (yet). However, evolutionary biology is by now among the most quantitative branches of biology (as I'm sure you've gathered by now!). Learning how to study evolution effectively requires some knack at getting your computer to do the analyses you want it to do; we already saw an example of this with phylogenetically controlled analyses. The only way you acquire that knack at getting your computer to do what you want is by exposure and practice."
    },
    {
      "metadata": {},
      "cell_type": "markdown",
      "source": "## Computational Evolutionary Biology as a Liberal Art\n\nThere is a somewhat more pragmatic reason to studying evolution this way. Imagine after your second year of medical/PA/Psychology/vet/dental school you decide you need a break and want to take a gap year. Or you have a midlife crisis at some point in your 40s and want to make a decent living doing something else.\n\nThen I think you would want to have some options to explore alternatives. Have a minute to read this article:\n\nhttps://www.nytimes.com/2017/11/01/education/edlife/stem-jobs-industry-careers.html\n\n\nIn the spirit of continuing to practice writing Jupyter entries, go ahead and create a cell below this one, and write down your thoughts about the STEM article. Remember to use the &lt;mark&gt; tag!"
    },
    {
      "metadata": {},
      "cell_type": "markdown",
      "source": "The article isn't as scary as it seems. Employers in tech and data science care much more about skills than credentials.  In fact, one can have a degree in anything (or nothing, like Bill Gates or Steve Jobs). My goal is to encourage students to develop transferable skills that you can use beyond this class. If you choose to do an <i>in silico</i> research project in earnest this term, I will work closely with you to develop a portfolio showcasing your problem solving skills using computational methods.\n\nMoreover, for good or ill no area of modern life is untouched by complex software. Aside from gaining a skill employers and increasingly grad schools value, it behooves you as an informed citizen to have at least some familiarity with the logic underlying the rules increasingly controling our lives. [Learning to think through a computational problem strongly sharpens your broader problem solving abilities, and it opens a great number of fascinating doors as a scientist.](https://gasstationwithoutpumps.wordpress.com/2016/04/10/transfer-of-learning/)\n"
    },
    {
      "metadata": {
        "trusted": true
      },
      "cell_type": "markdown",
      "source": "## Individual-based models\n\nThere are many ways to studying evolution *in silico*, including through games like SimLife. One of the most prominent approaches are what are called individual-based models. Individual-based models (sometimes called \"Agent-based models\"), or IBMs for short, are an approach to understanding complex phenomena (like evolution) in which each individual organism is simulated explicitly. The basic idea is to understand how system behaviors emerge from the action of several individuals. A classic example of how system behaviors emerge from individual actions is collective motions in schools of fish:\n\n![](https://notebooks.azure.com/anon-idowvg/projects/evolution2019/raw/F1.large.jpg)\n\nEach individual fish moves according to a set of rules of what its neighbor dows, and out of the actions of many individual fish, we see how the behavior of the school emerges. Another really good example of an emergent phenomenon is a cell. Each component of a cell, by itself, doesn't really do much, but when they all come together as a single entity, you have a powerful machine that forms the building blocks of life.\n\nIn fact, we've already been exposed to a simple individual-based model with SimLife. Each individual is born, reproduces and dies, and out of their collective births, deaths and mutations, after many generations the evolutionary dynamics - that is, the population's allele frequencies - emerge. "
    },
    {
      "metadata": {},
      "cell_type": "markdown",
      "source": "## Using Python for Individual Based Modeling\n\nToday, we are going to try to explore how we can build a basic individual-based model for studying evolution. Our goals are very simple: we will first explore how we can characterize individuals using an environment called Python. \n\n![](https://www.python.org/static/img/python-logo.png)\n\nPython is very similar to R - in particular, it let's us handle matrices (spreadsheets) very effectively and the interface (what you have to do to get it to do things for you) is nearly identical. However, whereas R is primarily used for statistics and data analyses, Python is used for all sorts of things. You might have heard of such entities as Spotify, Instagram, the Sims 4, Youtube and reddit. These are all built with Python at their core. In addition, Python is a popular scientific programming language. NASA has been integrating as much of its in-house computing processes into a Python envrionment as it can. In a very real sense, Python plays an integral role supporting the modern world.\n\nThe first thing we will do is load a library called `numpy` into Jupyter. Libraries in Python work just like packages in R. They expand on the tools provide by the vanilla install. Thus, you can think of `numpy` as a package for Python. We will import this library by running the following command."
    },
    {
      "metadata": {
        "trusted": true
      },
      "cell_type": "code",
      "source": "import numpy",
      "execution_count": null,
      "outputs": []
    },
    {
      "metadata": {},
      "cell_type": "markdown",
      "source": "The reason we do this, more or less, is to communicate to Python that we will be doing natural science type stuff, rather than making a photosharing website. "
    },
    {
      "metadata": {},
      "cell_type": "markdown",
      "source": "Just as we had to read our dataset in R, let's read a data set, describing the initial configuration of individuals, into Python. Unfortunately, with Python this is a bit more involved. Start by going back to the Evolution 2019 Projects workspace, and open the file InitialIBM.csv. You'll see a list of 25 individuals, where we track the allele at their maternal F locus and the allele at their paternal M locus, as well as the resulting phenotypic values for three traits (Phen1, Phen2 and Phen3).\n\nThe instructions below will load this initial population configuration into Python:"
    },
    {
      "metadata": {
        "trusted": true
      },
      "cell_type": "code",
      "source": "My_Pop = numpy.genfromtxt('InitialIBM.csv', delimiter=',', names=True)",
      "execution_count": null,
      "outputs": []
    },
    {
      "metadata": {},
      "cell_type": "markdown",
      "source": "From the functions in R, you might recognize that `numpy.genfromtxt()` is a function that takes three arguments: the csv file ('InitialIBM.csv'), the delimiter (basically, how data are separated in that file - in this case, by commas) and something called names (here, the names of each column - Individual, LocusF1, LocusF2,... etc...). What we have done is load the spreadsheet into Python, and then given the resulting matrix a name My_Pop."
    },
    {
      "metadata": {},
      "cell_type": "markdown",
      "source": "Now let's take a look at each row of the matrix My_Pop. You can have Pythong return the 5th row of this matrix by typing:"
    },
    {
      "metadata": {
        "trusted": true
      },
      "cell_type": "code",
      "source": "My_Pop[5]",
      "execution_count": null,
      "outputs": []
    },
    {
      "metadata": {},
      "cell_type": "markdown",
      "source": "Notice that we are printing individual 6. This is because Python uses what is called \"zero-indexing\" - that is, the first item of a list starts with zero, not one. Thus, the first row of the matrix My_Pop is `My_Pop[0]`, not `My_Pop[1]`. It's sort of like Latin American and European floor number conventions.\n\nIn the Jupyter cell below, see if you can get Python to give you the 8th row of the matrix My_Pop."
    },
    {
      "metadata": {
        "trusted": true
      },
      "cell_type": "code",
      "source": "",
      "execution_count": null,
      "outputs": []
    },
    {
      "metadata": {},
      "cell_type": "markdown",
      "source": "Now suppose we want to access the [i,j]th element of our matrix My_Pop. Imagine we want to access the maternal allelic value at the third locus of the 2nd individual. To do this, we type:"
    },
    {
      "metadata": {
        "trusted": true
      },
      "cell_type": "code",
      "source": "My_Pop[1]['LocusF3']",
      "execution_count": null,
      "outputs": []
    },
    {
      "metadata": {},
      "cell_type": "markdown",
      "source": "That is, we can access the column of interest by simply calling it's column name (here, `LocusF3`) in anothre set of square brackets, and specifying the row number (`1`, for the second individual because of zero indexing)."
    },
    {
      "metadata": {},
      "cell_type": "markdown",
      "source": "## Writing your own Functions in Python\n\nWe talked about functions a little already, and quite a bit when we were doing the comparative analysis exercise using R. The basic idea is to specify the function name, and include arguments in parentheses. Python functions work like functions in R, but if we are doing science stuff, it helps to precede the function with `numpy` and a period, as in `numpy.genfromtxt` or:"
    },
    {
      "metadata": {
        "trusted": true
      },
      "cell_type": "code",
      "source": "numpy.cos(3.14159)",
      "execution_count": null,
      "outputs": []
    },
    {
      "metadata": {},
      "cell_type": "markdown",
      "source": "Having to constantly put `numpy.` in front of functions gets a little old, so we can actually DEFINE our own functions in Python. Let's look at an example. Suppose I want to define a function called `myAddition` that takes two numbers as arguments and returns their sum. Here's how you will do that in Python:"
    },
    {
      "metadata": {
        "trusted": true
      },
      "cell_type": "code",
      "source": "def myAddition(x,y):\n    return x+y",
      "execution_count": null,
      "outputs": []
    },
    {
      "metadata": {},
      "cell_type": "markdown",
      "source": "The first thing we do is use the keyword `def` in front of the function name. Then we specify the function's name and enclose the arguments used (as variables) in parentheses. When that's all done, we type a colon `:` and in a new line specify what our function does. Let's look at another example, this time aimed at gitting rid of the `numpy` designation for cosine."
    },
    {
      "metadata": {
        "trusted": true
      },
      "cell_type": "code",
      "source": "def cos(x):\n    return numpy.cos(x)",
      "execution_count": null,
      "outputs": []
    },
    {
      "metadata": {},
      "cell_type": "markdown",
      "source": "Run the cell above. Then try typing `cos(3.14159)` and describe in a new Jupyter cell what Python spits back."
    },
    {
      "metadata": {
        "trusted": true
      },
      "cell_type": "code",
      "source": "",
      "execution_count": null,
      "outputs": []
    },
    {
      "metadata": {},
      "cell_type": "markdown",
      "source": "We can even do more complex functions in Python. Let's consider what's called a conditional: that is, return one value if the argument fits some criterion, and return another otherwise. Consider the function below."
    },
    {
      "metadata": {
        "trusted": true
      },
      "cell_type": "code",
      "source": "def die(x):\n    if x < 5:\n        return(1)\n    else:\n        return(0)",
      "execution_count": null,
      "outputs": []
    },
    {
      "metadata": {},
      "cell_type": "markdown",
      "source": "Do you think you can figure out what the function `die` is doing? Let's try running it on a few values."
    },
    {
      "metadata": {
        "trusted": true
      },
      "cell_type": "code",
      "source": "die(-200)",
      "execution_count": null,
      "outputs": []
    },
    {
      "metadata": {
        "trusted": true
      },
      "cell_type": "code",
      "source": "die(2)",
      "execution_count": null,
      "outputs": []
    },
    {
      "metadata": {
        "trusted": true
      },
      "cell_type": "code",
      "source": "die(5)",
      "execution_count": null,
      "outputs": []
    },
    {
      "metadata": {
        "trusted": true
      },
      "cell_type": "code",
      "source": "die(200)",
      "execution_count": null,
      "outputs": []
    },
    {
      "metadata": {},
      "cell_type": "markdown",
      "source": "This might be useful when we are simulating mortality in our individual based model - it can describe, for instance, if individual's don't have a certain trait value (e.g., enough surface proteins that block the antibiotic) they might die. "
    },
    {
      "metadata": {},
      "cell_type": "markdown",
      "source": "## Loops: Doing the same sort of thing over and over and over again\n\nNow the fun stuff. Let's go through one individual (i.e., row) in our matrix and print their Phen1 trait value. To print a variable in Python, simply use the function print, as in:"
    },
    {
      "metadata": {
        "trusted": true
      },
      "cell_type": "code",
      "source": "print(My_Pop[2]['Phen1'])",
      "execution_count": null,
      "outputs": []
    },
    {
      "metadata": {},
      "cell_type": "markdown",
      "source": "To print the value associated with something, we'll use what is called a `for loop`. A `for loop` is a very special kind of instruction we use if want to do the same (or very similar) thing over and over and over again. An example might be to print the `Phen1` trait value of every individual in our list of individuals. If we did this like:"
    },
    {
      "metadata": {
        "trusted": true
      },
      "cell_type": "code",
      "source": "print(My_Pop[0]['Phen1'])\nprint(My_Pop[1]['Phen1'])\nprint(My_Pop[2]['Phen1'])\n# etc...",
      "execution_count": null,
      "outputs": []
    },
    {
      "metadata": {},
      "cell_type": "markdown",
      "source": "Notice how Python executes commands in the order in which they've been entered. We'll eventually get a printed list of everyone's Phen1 alright, but it will be very tedious to keep changing that number, particularly if we have, say, millions of individuals. "
    },
    {
      "metadata": {},
      "cell_type": "markdown",
      "source": "This is where a `for loop` comes into play. The basic idea to making a `for loop` in Python to run the instructions:\n\n`for variable in range(low, hi):\n    do some boring repetitive task on variable\n`\n\nHere's what's going on. `variable` is just some arbitrary variable we can set. `i` is a popular choice (for \"index\", as in \"the ith element\" \"the ith species\" etc...). The function `range(low, hi)` takes two integer values as arguments: the low integer in the range and the high integer value just outside the range (again, because of zero indexing). Then we end the line `for variable in range(low,hi)` with a colon `:`. We then make a new line, indent the instruction we want to repeat so it is clear we are only running that instruction inside a `for loop`."
    },
    {
      "metadata": {},
      "cell_type": "markdown",
      "source": "It's a bit tricky, I know, so let me illustrate with an example. Suppose I want to print the numbers between 11 and 25. Run the instructions below and, in a new Jupyter cell, tell me what you see:"
    },
    {
      "metadata": {
        "trusted": true
      },
      "cell_type": "code",
      "source": "for i in range(11,26):\n    print(i)",
      "execution_count": null,
      "outputs": []
    },
    {
      "metadata": {},
      "cell_type": "markdown",
      "source": "(see how I used 26 instead of 25?). "
    },
    {
      "metadata": {},
      "cell_type": "markdown",
      "source": "So go ahead and see if you can use a `for loop` to print `Phen1` for each of our 25 individuals. Before jumping right in, take a look at the instructions for setting up a `for loop`. If possible, work with a colleague to strategize a plan for printing each individual's trait value. Where does the variable we want to change (corresponding to the individual's number) have to go in our instructions? What is the low value you start with?"
    },
    {
      "metadata": {
        "trusted": true
      },
      "cell_type": "code",
      "source": "",
      "execution_count": null,
      "outputs": []
    },
    {
      "metadata": {},
      "cell_type": "markdown",
      "source": "It is no exaggeration to say that loops are fundamental to studying evolutionary biology. In an experiment, we let a population do the same thing day after day after day, as evolution happens generation after generation after generation. Within a population, we subject individual after individual after individual to some treatment. "
    },
    {
      "metadata": {},
      "cell_type": "markdown",
      "source": "## Bringing it all Together\nPrinting isn't the only repetitive task. Another example of where a loop might come in handy is in determining whether each individual will survive (i.e., we want to repeatedly cast a \"survive or die\" judgment on all individuals). Going through each indiviual and manually marking them \"Dead\" or \"Alive\" is just too time consuming."
    },
    {
      "metadata": {},
      "cell_type": "markdown",
      "source": "The good news is we can use the `die` function over and over again. Try runing the following `for loop`:"
    },
    {
      "metadata": {
        "trusted": true
      },
      "cell_type": "code",
      "source": "for i in range(-50,50):\n    print([i, die(i)])",
      "execution_count": null,
      "outputs": []
    },
    {
      "metadata": {},
      "cell_type": "markdown",
      "source": "The final task for today is to go through our list of individuals, and print an outcome decision of who dies (1) and who doesn't (0), based on whether their trait Phen3 exceeds 0.5. See if you can get this to work."
    },
    {
      "metadata": {
        "trusted": true
      },
      "cell_type": "code",
      "source": "",
      "execution_count": null,
      "outputs": []
    },
    {
      "metadata": {},
      "cell_type": "markdown",
      "source": "## Next Steps\n\nWe're still a couple of steps away from seeing the full power of computational methods and a theoretical analysis of evolutionary change. We haven't talked about removing the dead individuals from our population and letting the survivors reproduce, much less mutation and recombination and genotype-phenotype maps and predation and somatic growth and all the other good stuff. We haven't even simulated one single generation! \n\nHowever, the basic building blocks of what is needed to study evolution computationally are well known. If you really want to get a sense of the scope of what could be done beyond our small example, here are some projects of mine that can give you a feel for the sort of questions one can explore building on the sort of work we did today:\n\nhttps://doi.org/10.1371/journal.pntd.0002827\n\nhttps://doi.org/10.1111/eva.12683\n\nhttps://doi.org/10.1111/2041-210X.12889\n\nhttps://doi.org/10.1098/rspb.2014.2256\n\nBut I hope you've gotten a sense of the *type* of thinking and the sort of work you may need to do to get started. There's a bit of problem solving and tinkering involved. However, the possibilities for predicting evolution on a computer are limited only by your willingness to try.\n"
    },
    {
      "metadata": {
        "trusted": true
      },
      "cell_type": "code",
      "source": "",
      "execution_count": null,
      "outputs": []
    }
  ],
  "metadata": {
    "kernelspec": {
      "name": "python3",
      "display_name": "Python 3",
      "language": "python"
    },
    "language_info": {
      "mimetype": "text/x-python",
      "nbconvert_exporter": "python",
      "name": "python",
      "pygments_lexer": "ipython3",
      "version": "3.5.4",
      "file_extension": ".py",
      "codemirror_mode": {
        "version": 3,
        "name": "ipython"
      }
    }
  },
  "nbformat": 4,
  "nbformat_minor": 1
}